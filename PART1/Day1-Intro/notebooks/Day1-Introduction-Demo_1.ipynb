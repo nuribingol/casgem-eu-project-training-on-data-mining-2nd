{
 "cells": [
  {
   "cell_type": "markdown",
   "metadata": {
    "id": "WXzlDynB3ZOd"
   },
   "source": [
    "# GİRİŞ - DEMO 1\n",
    "\n",
    "## Tablo olarak veri\n",
    "\n",
    "Temel tablo, satırların veri kümesinin ayrı öğelerini temsil ettiği ve sütunların bu öğelerin her biriyle ilgili miktarları temsil ettiği iki boyutlu bir veri ızgarasıdır. \n",
    "\n",
    "Örneğin, 1936'da Ronald Fisher tarafından analiz edilen [Iris veri kümesini](https://en.wikipedia.org/wiki/Iris_flower_data_set) ele alalım. "
   ]
  },
  {
   "cell_type": "markdown",
   "metadata": {
    "id": "FpAgamrHj7-E"
   },
   "source": [
    "**Süsen (Iris) Çiçeği**\n",
    "\n",
    "<img src=\"https://drive.google.com/uc?id=1uYS2KKfWyIOMlsROpdryTuxRRwYsCQBU\">"
   ]
  },
  {
   "cell_type": "code",
   "execution_count": null,
   "metadata": {
    "colab": {
     "base_uri": "https://localhost:8080/",
     "height": 424
    },
    "executionInfo": {
     "elapsed": 248,
     "status": "ok",
     "timestamp": 1647716667507,
     "user": {
      "displayName": "yapay ogrenme",
      "photoUrl": "https://lh3.googleusercontent.com/a/default-user=s64",
      "userId": "01439174103862722545"
     },
     "user_tz": -180
    },
    "id": "IpkFqL983fE-",
    "outputId": "7ea84415-20be-4ef6-d8af-d4026fcbd303"
   },
   "outputs": [],
   "source": [
    "import seaborn as sns\n",
    "df_iris = sns.load_dataset('iris')\n",
    "df_iris"
   ]
  },
  {
   "cell_type": "markdown",
   "metadata": {
    "id": "lWYRYHiC5Uiu"
   },
   "source": [
    "[n_samples, n_features] = 150 sample x 5 feature"
   ]
  },
  {
   "cell_type": "markdown",
   "metadata": {
    "id": "u5GgbtJx50CL"
   },
   "source": [
    "Örneğin, önceki verilerde, diğer ölçümlere dayalı olarak çiçek türlerini tahmin edebilen bir model oluşturmak isteyebiliriz; bu durumda, türler sütunu (**species**) hedef dizi olarak kabul edilecektir."
   ]
  },
  {
   "cell_type": "code",
   "execution_count": null,
   "metadata": {
    "colab": {
     "base_uri": "https://localhost:8080/",
     "height": 477
    },
    "executionInfo": {
     "elapsed": 10911,
     "status": "ok",
     "timestamp": 1647716683943,
     "user": {
      "displayName": "yapay ogrenme",
      "photoUrl": "https://lh3.googleusercontent.com/a/default-user=s64",
      "userId": "01439174103862722545"
     },
     "user_tz": -180
    },
    "id": "AukJrTZj42mE",
    "outputId": "d0d0bd89-9d65-441a-c305-fe52d1f49e98"
   },
   "outputs": [],
   "source": [
    "%matplotlib inline\n",
    "import seaborn as sns; \n",
    "sns.set()\n",
    "sns.pairplot(df_iris, hue='species', size=1.5);"
   ]
  },
  {
   "cell_type": "markdown",
   "metadata": {
    "id": "CRUwPvq57fGr"
   },
   "source": [
    "DataFrame'den özellikler matrisini (features matrix) ve hedef diziyi (target array) çıkaracağız: "
   ]
  },
  {
   "cell_type": "code",
   "execution_count": null,
   "metadata": {
    "colab": {
     "base_uri": "https://localhost:8080/"
    },
    "executionInfo": {
     "elapsed": 234,
     "status": "ok",
     "timestamp": 1647716739905,
     "user": {
      "displayName": "yapay ogrenme",
      "photoUrl": "https://lh3.googleusercontent.com/a/default-user=s64",
      "userId": "01439174103862722545"
     },
     "user_tz": -180
    },
    "id": "5VQjBdlc6GXK",
    "outputId": "306378ff-f364-4473-c5a5-d0445c6709a1"
   },
   "outputs": [],
   "source": [
    "X_iris = df_iris.drop('species', axis=1)\n",
    "X_iris.shape"
   ]
  },
  {
   "cell_type": "code",
   "execution_count": null,
   "metadata": {
    "colab": {
     "base_uri": "https://localhost:8080/",
     "height": 424
    },
    "executionInfo": {
     "elapsed": 266,
     "status": "ok",
     "timestamp": 1647716741564,
     "user": {
      "displayName": "yapay ogrenme",
      "photoUrl": "https://lh3.googleusercontent.com/a/default-user=s64",
      "userId": "01439174103862722545"
     },
     "user_tz": -180
    },
    "id": "OGNKEUwJ8B5C",
    "outputId": "f3bb2be5-a883-49d2-b695-fd6a4786c1e7"
   },
   "outputs": [],
   "source": [
    "X_iris"
   ]
  },
  {
   "cell_type": "code",
   "execution_count": null,
   "metadata": {
    "colab": {
     "base_uri": "https://localhost:8080/"
    },
    "executionInfo": {
     "elapsed": 251,
     "status": "ok",
     "timestamp": 1647716745614,
     "user": {
      "displayName": "yapay ogrenme",
      "photoUrl": "https://lh3.googleusercontent.com/a/default-user=s64",
      "userId": "01439174103862722545"
     },
     "user_tz": -180
    },
    "id": "sfExOrGJ7vxR",
    "outputId": "01ded67f-8d01-4a8f-bcc3-9d0b145e79df"
   },
   "outputs": [],
   "source": [
    "y_iris = df_iris['species']\n",
    "y_iris.shape"
   ]
  },
  {
   "cell_type": "code",
   "execution_count": null,
   "metadata": {
    "colab": {
     "base_uri": "https://localhost:8080/"
    },
    "executionInfo": {
     "elapsed": 8,
     "status": "ok",
     "timestamp": 1647716746435,
     "user": {
      "displayName": "yapay ogrenme",
      "photoUrl": "https://lh3.googleusercontent.com/a/default-user=s64",
      "userId": "01439174103862722545"
     },
     "user_tz": -180
    },
    "id": "8dPICmg58EKt",
    "outputId": "02b37c1b-9b06-4f05-fa99-da30a35b02e1"
   },
   "outputs": [],
   "source": [
    "y_iris"
   ]
  },
  {
   "cell_type": "markdown",
   "metadata": {
    "deletable": true,
    "editable": true,
    "id": "iXAy6Nw-z3Ap"
   },
   "source": [
    "# Denetimli öğrenme örneği: Basit doğrusal regresyon\n",
    "\n",
    "Bu işlemin bir örneği olarak, basit bir doğrusal regresyon düşünelim; \n",
    "bu, $(x, y)$ verisine bir çizgi uydurmanın genel durumudur.\n",
    "Regresyon örneğimiz için aşağıdaki basit verileri kullanacağız:"
   ]
  },
  {
   "cell_type": "code",
   "execution_count": null,
   "metadata": {
    "colab": {
     "base_uri": "https://localhost:8080/",
     "height": 271
    },
    "executionInfo": {
     "elapsed": 961,
     "status": "ok",
     "timestamp": 1647716775020,
     "user": {
      "displayName": "yapay ogrenme",
      "photoUrl": "https://lh3.googleusercontent.com/a/default-user=s64",
      "userId": "01439174103862722545"
     },
     "user_tz": -180
    },
    "id": "SNNdm6ae8YdR",
    "outputId": "4ebc41c5-623a-402b-b9f0-159c341fd4fb"
   },
   "outputs": [],
   "source": [
    "import matplotlib.pyplot as plt\n",
    "import numpy as np\n",
    "\n",
    "rng = np.random.RandomState(34)\n",
    "\n",
    "x = 10 * rng.rand(50)\n",
    "y = 2 * x - 1 + rng.randn(50)\n",
    "\n",
    "plt.scatter(x, y);"
   ]
  },
  {
   "cell_type": "markdown",
   "metadata": {
    "id": "ZSk7gTbI9l-B"
   },
   "source": [
    "## 1. Model Seçimi"
   ]
  },
  {
   "cell_type": "code",
   "execution_count": null,
   "metadata": {
    "id": "Eq3XwsFP9Ck7"
   },
   "outputs": [],
   "source": [
    "from sklearn.linear_model import LinearRegression"
   ]
  },
  {
   "cell_type": "markdown",
   "metadata": {
    "id": "zG_595rV8wiX"
   },
   "source": [
    "Diğer doğrusal regresyon modelleri için [sklearn.linear_model modülü](https://scikit-learn.org/stable/modules/linear_model.html) resmi dökümantasyonuna göz atabilirsiniz."
   ]
  },
  {
   "cell_type": "markdown",
   "metadata": {
    "id": "SWwQg68n9sW-"
   },
   "source": [
    "## 2. Model Hiperparametrelerinin Seçimi\n",
    "\n",
    "Model sınıfımıza karar verdikten sonra çalıştığımız model sınıfına bağlı olarak, aşağıdaki gibi bir veya daha fazla soruyu yanıtlamamız gerekebilir:\n",
    "\n",
    "* Ofseti (yani, y-kesişimi) sığdırmak ister miyiz?\n",
    "* Modelin normalleştirilmesini ister miyiz?\n",
    "* Model esnekliği eklemek için özelliklerimizi önceden işlemek ister miyiz?\n",
    "* Modelimizde ne derece düzenlileştirme kullanmak isteriz?\n",
    "* Kaç model bileşeni kullanmak istiyoruz?\n",
    "\n",
    "Bunlar, model sınıfı seçildikten sonra yapılması gereken önemli seçimlerin örnekleridir. Bu seçenekler genellikle hiperparametreler olarak adlandırılır.\n",
    "\n",
    "Doğrusal regresyon örneğimiz için, **LinearRegression** sınıfı üzerinde `fit_intercept` hiperparametresini kullanarak kesişimi sığdırmak istediğimizi belirtebiliriz: "
   ]
  },
  {
   "cell_type": "code",
   "execution_count": null,
   "metadata": {
    "colab": {
     "base_uri": "https://localhost:8080/"
    },
    "executionInfo": {
     "elapsed": 240,
     "status": "ok",
     "timestamp": 1647716807817,
     "user": {
      "displayName": "yapay ogrenme",
      "photoUrl": "https://lh3.googleusercontent.com/a/default-user=s64",
      "userId": "01439174103862722545"
     },
     "user_tz": -180
    },
    "id": "uBUxP16r8dix",
    "outputId": "151f4b6d-5487-43af-f68e-ade26dce0935"
   },
   "outputs": [],
   "source": [
    "model = LinearRegression(fit_intercept=True)\n",
    "model"
   ]
  },
  {
   "cell_type": "markdown",
   "metadata": {
    "deletable": true,
    "editable": true,
    "id": "3ZlUKkcdz3As"
   },
   "source": [
    "## 3. Verileri bir özellik matrisi ve hedef vektörü olarak düzenleme\n",
    "\n",
    "Burada hedef değişkenimiz `y` - `n_samples` uzunluğunda bir dizi.\n",
    "Ama burada `x`i, `[n_samples, n_features]` şeklinde bir matrix haline dönüştürmemiz gerekiyor. "
   ]
  },
  {
   "cell_type": "code",
   "execution_count": null,
   "metadata": {
    "colab": {
     "base_uri": "https://localhost:8080/"
    },
    "executionInfo": {
     "elapsed": 267,
     "status": "ok",
     "timestamp": 1647716821003,
     "user": {
      "displayName": "yapay ogrenme",
      "photoUrl": "https://lh3.googleusercontent.com/a/default-user=s64",
      "userId": "01439174103862722545"
     },
     "user_tz": -180
    },
    "id": "zw7pqbCC-0Nv",
    "outputId": "b86be1d5-a2bf-40c4-ec30-9c9028e27644"
   },
   "outputs": [],
   "source": [
    "X = x[:, np.newaxis]\n",
    "X.shape"
   ]
  },
  {
   "cell_type": "markdown",
   "metadata": {
    "id": "rFOh6QlvAeLR"
   },
   "source": [
    "## 4. Model Eğitimi\n"
   ]
  },
  {
   "cell_type": "code",
   "execution_count": null,
   "metadata": {
    "colab": {
     "base_uri": "https://localhost:8080/"
    },
    "executionInfo": {
     "elapsed": 247,
     "status": "ok",
     "timestamp": 1647716822802,
     "user": {
      "displayName": "yapay ogrenme",
      "photoUrl": "https://lh3.googleusercontent.com/a/default-user=s64",
      "userId": "01439174103862722545"
     },
     "user_tz": -180
    },
    "id": "u7a3NNix_oMP",
    "outputId": "09f102c0-bc61-4b65-9c21-3ab3c2fc9b98"
   },
   "outputs": [],
   "source": [
    "model.fit(X, y)"
   ]
  },
  {
   "cell_type": "code",
   "execution_count": null,
   "metadata": {
    "colab": {
     "base_uri": "https://localhost:8080/"
    },
    "executionInfo": {
     "elapsed": 7,
     "status": "ok",
     "timestamp": 1647716823099,
     "user": {
      "displayName": "yapay ogrenme",
      "photoUrl": "https://lh3.googleusercontent.com/a/default-user=s64",
      "userId": "01439174103862722545"
     },
     "user_tz": -180
    },
    "id": "BdmFUqo0BGRV",
    "outputId": "344ad757-dbeb-432a-9223-35efc784ea58"
   },
   "outputs": [],
   "source": [
    "model.coef_"
   ]
  },
  {
   "cell_type": "code",
   "execution_count": null,
   "metadata": {
    "colab": {
     "base_uri": "https://localhost:8080/"
    },
    "executionInfo": {
     "elapsed": 2,
     "status": "ok",
     "timestamp": 1647716823432,
     "user": {
      "displayName": "yapay ogrenme",
      "photoUrl": "https://lh3.googleusercontent.com/a/default-user=s64",
      "userId": "01439174103862722545"
     },
     "user_tz": -180
    },
    "id": "CNcmvMOVBb6N",
    "outputId": "34137808-07ec-468d-c109-fb923bf56904"
   },
   "outputs": [],
   "source": [
    "model.intercept_"
   ]
  },
  {
   "cell_type": "markdown",
   "metadata": {
    "id": "xade6lUNBjiA"
   },
   "source": [
    "Bu iki parametre, verilere basit doğrusal uyumun eğimini ve kesişimini temsil eder. Veri tanımıyla karşılaştırıldığında, 2'nin giriş eğimine ve -1'in kesişim noktasına çok yakın olduklarını görüyoruz."
   ]
  },
  {
   "cell_type": "markdown",
   "metadata": {
    "id": "Tg2IYFDBB91z"
   },
   "source": [
    "## 5. Bilinmeyen veriler için etiketleri tahmin etme\n",
    "\n",
    "Model eğitildikten sonra, denetimli makine öğreniminin ana görevi, onu eğitim setinin parçası olmayan yeni veriler hakkında söylediklerine dayanarak değerlendirmektir.\n",
    "\n",
    "Scikit-Learn'de bu, ``predict()`` yöntemi kullanılarak yapılabilir.\n",
    "\n",
    "Bu örnek için, \"yeni verimiz\" *x* değerlerinden oluşan bir matris olacak ve modelin hangi *y* değerlerini tahmin ettiğini soracağız:"
   ]
  },
  {
   "cell_type": "code",
   "execution_count": null,
   "metadata": {
    "id": "aRKsGRpCBdte"
   },
   "outputs": [],
   "source": [
    "xfit = np.linspace(-1, 11)"
   ]
  },
  {
   "cell_type": "code",
   "execution_count": null,
   "metadata": {
    "id": "uJ--AoNvCOTr"
   },
   "outputs": [],
   "source": [
    "Xfit = xfit[:, np.newaxis]\n",
    "yfit = model.predict(Xfit)"
   ]
  },
  {
   "cell_type": "markdown",
   "metadata": {
    "deletable": true,
    "editable": true,
    "id": "wGHUN5_Iz3Ax"
   },
   "source": [
    "Son olarak, önce ham verileri çizerek sonuçları görselleştirelim ve ardından eğitilen modeli:"
   ]
  },
  {
   "cell_type": "code",
   "execution_count": null,
   "metadata": {
    "colab": {
     "base_uri": "https://localhost:8080/",
     "height": 268
    },
    "executionInfo": {
     "elapsed": 331,
     "status": "ok",
     "timestamp": 1647716832042,
     "user": {
      "displayName": "yapay ogrenme",
      "photoUrl": "https://lh3.googleusercontent.com/a/default-user=s64",
      "userId": "01439174103862722545"
     },
     "user_tz": -180
    },
    "id": "3bQG7NeVCPwP",
    "outputId": "e1283ecc-a917-41a8-8d26-d26eff2cbd7f"
   },
   "outputs": [],
   "source": [
    "plt.scatter(x, y)\n",
    "plt.plot(xfit, yfit);"
   ]
  },
  {
   "cell_type": "markdown",
   "metadata": {
    "deletable": true,
    "editable": true,
    "id": "4CdVEP9oz3Ay"
   },
   "source": [
    "# Denetimli öğrenme örneği: İris sınıflandırması\n",
    "\n",
    "Daha önce tartıştığımız Iris veri setini kullanarak bu işlemin başka bir örneğine bakalım.\n",
    "\n",
    "**Sorumuz şu olacak: Iris verilerinin bir kısmı üzerinde eğitilmiş bir model verildiğinde, kalan etiketleri ne kadar iyi tahmin edebiliriz?**\n",
    "\n",
    "Bu görev için, her sınıfın eksen hizalı bir Gauss dağılımından çizildiğini varsayarak ilerleyen Gaussian naive Bayes olarak bilinen son derece basit bir üretici model kullanacağız.\n",
    "\n",
    "Çok hızlı olduğu ve seçilecek hiperparametresi olmadığı için, Gaussian naive Bayes, iyileştirmelerin daha karmaşık modellerle bulunup bulunamayacağını keşfetmeden önce, genellikle temel sınıflandırma olarak kullanmak için iyi bir modeldir.\n",
    "\n",
    "Modeli daha önce görmediği veriler üzerinde değerlendirmek istiyoruz ve bu nedenle verileri bir *eğitim seti* ve bir *test seti* olarak ayıracağız.\n",
    "\n",
    "Bu elle yapılabilir, ancak `train_test_split` yardımcı fonksiyonu kullanmak daha uygundur:"
   ]
  },
  {
   "cell_type": "code",
   "execution_count": null,
   "metadata": {
    "deletable": true,
    "editable": true,
    "id": "c_B-qBnSz3Ay"
   },
   "outputs": [],
   "source": [
    "#from sklearn.cross_validation import train_test_split\n",
    "from sklearn.model_selection import train_test_split\n",
    "\n",
    "Xtrain, Xtest, ytrain, ytest = train_test_split(X_iris, y_iris, random_state=1)"
   ]
  },
  {
   "cell_type": "markdown",
   "metadata": {
    "deletable": true,
    "editable": true,
    "id": "6YEGeVhHz3Ay"
   },
   "source": [
    "Düzenlenen verilerle, etiketleri tahmin etmek için aşağıdaki yöntemleri kullanalım"
   ]
  },
  {
   "cell_type": "code",
   "execution_count": null,
   "metadata": {
    "deletable": true,
    "editable": true,
    "id": "7sGsCcSHz3Ay"
   },
   "outputs": [],
   "source": [
    "from sklearn.naive_bayes import GaussianNB # 1. model seçimi\n",
    "\n",
    "model = GaussianNB()\n",
    "\n",
    "model.fit(Xtrain, ytrain)                  # veriler ile modeli eğitme\n",
    "\n",
    "y_model = model.predict(Xtest)             # yeni veriler ile tahmin(predict) yapma"
   ]
  },
  {
   "cell_type": "markdown",
   "metadata": {
    "deletable": true,
    "editable": true,
    "id": "umNpLJ8Sz3Ay"
   },
   "source": [
    "Son olarak, tahmin edilen etiketlerin gerçek değerleriyle başarımını `accuracy_score` yardımcı ile ölçebilirsiniz"
   ]
  },
  {
   "cell_type": "code",
   "execution_count": null,
   "metadata": {
    "colab": {
     "base_uri": "https://localhost:8080/"
    },
    "deletable": true,
    "editable": true,
    "executionInfo": {
     "elapsed": 311,
     "status": "ok",
     "timestamp": 1647716857566,
     "user": {
      "displayName": "yapay ogrenme",
      "photoUrl": "https://lh3.googleusercontent.com/a/default-user=s64",
      "userId": "01439174103862722545"
     },
     "user_tz": -180
    },
    "id": "ifcQ8rgWz3Az",
    "outputId": "6855b3b9-f113-47f3-975c-ef650614c68d"
   },
   "outputs": [],
   "source": [
    "from sklearn.metrics import accuracy_score\n",
    "\n",
    "accuracy_score(ytest, y_model)"
   ]
  },
  {
   "cell_type": "markdown",
   "metadata": {
    "deletable": true,
    "editable": true,
    "id": "bc3qpDwQz3Az"
   },
   "source": [
    "%97'yi aşan bir doğrulukla, bu çok Gaussian naive Bayes sınıflandırma algoritmasının bile bu belirli veri kümesi için etkili olduğunu görüyoruz!"
   ]
  },
  {
   "cell_type": "markdown",
   "metadata": {
    "deletable": true,
    "editable": true,
    "id": "zLlIuJO5z3A0"
   },
   "source": [
    "# Denetimsiz Öğrenme Örneği: Iris verilerinin boyutlarının azaltılması\n",
    "\n",
    "Denetimsiz öğrenme problemine bir örnek olarak, daha kolay görselleştirmek için Iris verilerinin boyutsallığını azaltmaya bir göz atalım.\n",
    "\n",
    "İris verilerinin dört boyutlu olduğunu hatırlayın: Her örnek için kaydedilen dört özellik vardır.\n",
    "\n",
    "Boyut indirgemenin görevi, verilerin temel özelliklerini koruyan uygun bir düşük boyutlu temsilin olup olmadığını sormaktır.\n",
    "\n",
    "Genellikle boyutluluk azaltma, verileri görselleştirmeye yardımcı olarak kullanılır: sonuçta, verileri iki boyutlu olarak çizmek, dört veya daha yüksek boyuttan çok daha kolaydır!\n",
    "\n",
    "Burada, hızlı bir doğrusal boyut azaltma tekniği olan PCA (temel bileşen analizini) kullanacağız.\n",
    "\n",
    "Modelden iki bileşeni, yani verilerin iki boyutlu bir temsilini döndürmesini isteyeceğiz.\n"
   ]
  },
  {
   "cell_type": "code",
   "execution_count": null,
   "metadata": {
    "deletable": true,
    "editable": true,
    "id": "eh3Po0Q9z3A0"
   },
   "outputs": [],
   "source": [
    "from sklearn.decomposition import PCA  \n",
    "\n",
    "model = PCA(n_components=2)     \n",
    "      \n",
    "model.fit(X_iris)               \n",
    "\n",
    "X_2D = model.transform(X_iris)       "
   ]
  },
  {
   "cell_type": "code",
   "execution_count": null,
   "metadata": {
    "colab": {
     "base_uri": "https://localhost:8080/"
    },
    "executionInfo": {
     "elapsed": 238,
     "status": "ok",
     "timestamp": 1647716888770,
     "user": {
      "displayName": "yapay ogrenme",
      "photoUrl": "https://lh3.googleusercontent.com/a/default-user=s64",
      "userId": "01439174103862722545"
     },
     "user_tz": -180
    },
    "id": "NEhFP1FKlFFC",
    "outputId": "c0587e53-dae4-486e-9937-b446c657e63a"
   },
   "outputs": [],
   "source": [
    "X_2D.shape"
   ]
  },
  {
   "cell_type": "markdown",
   "metadata": {
    "deletable": true,
    "editable": true,
    "id": "QgMK3WRKz3A0"
   },
   "source": [
    "Şimdi sonuçları çizelim. \n",
    "\n",
    "Bunu yapmanın hızlı bir yolu, sonuçları orjinal Irıs `DataFrame`i içerisine eklemek ve sonuçları göstermek için Seaborn'un `lmplot` fonskiyonunu kullanmaktır."
   ]
  },
  {
   "cell_type": "code",
   "execution_count": null,
   "metadata": {
    "colab": {
     "base_uri": "https://localhost:8080/",
     "height": 420
    },
    "deletable": true,
    "editable": true,
    "executionInfo": {
     "elapsed": 2591,
     "status": "ok",
     "timestamp": 1647716906488,
     "user": {
      "displayName": "yapay ogrenme",
      "photoUrl": "https://lh3.googleusercontent.com/a/default-user=s64",
      "userId": "01439174103862722545"
     },
     "user_tz": -180
    },
    "id": "XJFQM6Hez3A1",
    "outputId": "0f194384-c738-4067-9206-840b0a16b9b8"
   },
   "outputs": [],
   "source": [
    "df_iris['PCA1'] = X_2D[:, 0]\n",
    "df_iris['PCA2'] = X_2D[:, 1]\n",
    "\n",
    "sns.lmplot(\"PCA1\", \"PCA2\", hue='species', data=df_iris, fit_reg=False);"
   ]
  },
  {
   "cell_type": "markdown",
   "metadata": {
    "deletable": true,
    "editable": true,
    "id": "Sus121mLz3A1"
   },
   "source": [
    "PCA algoritmasının tür etiketleri hakkında hiçbir bilgisi olmamasına rağmen, iki boyutlu gösterimde türlerin oldukça iyi ayrıldığını görüyoruz!\n",
    "\n",
    "Bu bize, daha önce gördüğümüz gibi, nispeten basit bir sınıflandırmanın veri kümesi üzerinde muhtemelen etkili olacağını gösteriyor."
   ]
  },
  {
   "cell_type": "markdown",
   "metadata": {
    "deletable": true,
    "editable": true,
    "id": "k99EaaC1z3A1"
   },
   "source": [
    "# Denetimsiz Öğrenme: Iris Kümeleme\n",
    "\n",
    "Şimdi, Iris verilerine kümeleme uygulamasına bakalım.\n",
    "\n",
    "Bir kümeleme algoritması, herhangi bir etikete başvurmadan farklı veri gruplarını bulmaya çalışır.\n",
    "\n",
    "Burada, Gauss karışım modeli (Gaussian mixture model)(GMM) adı verilen güçlü bir kümeleme yöntemini kullanacağız.\n",
    "\n",
    "Bir GMM, verileri Gauss bloblarının bir koleksiyonu olarak modellemeye çalışır.\n",
    "\n",
    "Gauss karışım modelini aşağıdaki gibi uydurabiliriz:"
   ]
  },
  {
   "cell_type": "code",
   "execution_count": null,
   "metadata": {
    "deletable": true,
    "editable": true,
    "id": "q3fCUArQz3A1"
   },
   "outputs": [],
   "source": [
    "#from sklearn.mixture import GMM      \n",
    "from sklearn import mixture\n",
    "\n",
    "model = mixture.GaussianMixture(n_components=3, covariance_type='full')  \n",
    "\n",
    "model.fit(X_iris)                   \n",
    "\n",
    "y_gmm = model.predict(X_iris)      "
   ]
  },
  {
   "cell_type": "code",
   "execution_count": null,
   "metadata": {
    "colab": {
     "base_uri": "https://localhost:8080/",
     "height": 420
    },
    "deletable": true,
    "editable": true,
    "executionInfo": {
     "elapsed": 3412,
     "status": "ok",
     "timestamp": 1647716979250,
     "user": {
      "displayName": "yapay ogrenme",
      "photoUrl": "https://lh3.googleusercontent.com/a/default-user=s64",
      "userId": "01439174103862722545"
     },
     "user_tz": -180
    },
    "id": "5VsVMjYWz3A2",
    "outputId": "947e108c-4549-4ab9-8262-77cbf5dcc864"
   },
   "outputs": [],
   "source": [
    "df_iris['cluster'] = y_gmm\n",
    "sns.lmplot(\"PCA1\", \"PCA2\", data=df_iris, hue='species', col='cluster', fit_reg=False);"
   ]
  },
  {
   "cell_type": "markdown",
   "metadata": {
    "deletable": true,
    "editable": true,
    "id": "RYFoBAsiz3A2"
   },
   "source": [
    "Verileri küme numarasına göre bölerek, GMM algoritmasının temel etiketi ne kadar iyi kurtardığını tam olarak görüyoruz: *setosa* türleri küme 0 içinde mükemmel bir şekilde ayrılırken *versicolor* ve *virginica* arasında az miktarda karışım kalır .\n",
    "\n",
    "Bu, bize tek tek çiçeklerin tür etiketlerini söyleyecek bir uzman olmasa bile, bu çiçeklerin ölçümlerinin, basit bir kümeleme algoritmasıyla bu farklı tür gruplarının varlığını *otomatik olarak* tespit edebileceğimiz kadar belirgin olduğu anlamına gelir!\n",
    "\n",
    "Bu tür bir algoritma, alandaki uzmanlara gözlemledikleri örnekler arasındaki ilişkiye dair ipuçları da verebilir."
   ]
  },
  {
   "cell_type": "markdown",
   "metadata": {
    "deletable": true,
    "editable": true,
    "id": "Zb0QK4J3z3A2"
   },
   "source": [
    "# Uygulama: Elle Yazılmış Rakamları Keşfetmek"
   ]
  },
  {
   "cell_type": "markdown",
   "metadata": {
    "deletable": true,
    "editable": true,
    "id": "8AeaSK0Tz3A3"
   },
   "source": [
    "Şimdi OCR (optik karakter tanıma) probleminin bir parçasını ele alalım: \n",
    "Elle yazılmış rakamların tanımlanması.\n",
    "\n",
    "Burada Scikit-Learn'ün kendi frameworkü içerisindeki yerleşik olan önceden biçimlendirilmiş rakam setini kullanacağız."
   ]
  },
  {
   "cell_type": "markdown",
   "metadata": {
    "deletable": true,
    "editable": true,
    "id": "bBPgOQ-5z3A4"
   },
   "source": [
    "## Rakam verilerini yükleme ve görselleştirme"
   ]
  },
  {
   "cell_type": "code",
   "execution_count": null,
   "metadata": {
    "colab": {
     "base_uri": "https://localhost:8080/"
    },
    "deletable": true,
    "editable": true,
    "executionInfo": {
     "elapsed": 614,
     "status": "ok",
     "timestamp": 1647717169434,
     "user": {
      "displayName": "yapay ogrenme",
      "photoUrl": "https://lh3.googleusercontent.com/a/default-user=s64",
      "userId": "01439174103862722545"
     },
     "user_tz": -180
    },
    "id": "J51aeQ1cz3A4",
    "outputId": "561a2dae-c9f1-44fd-a2e8-ebbeb80e6765"
   },
   "outputs": [],
   "source": [
    "from sklearn.datasets import load_digits\n",
    "digits = load_digits()\n",
    "digits.images.shape"
   ]
  },
  {
   "cell_type": "markdown",
   "metadata": {
    "deletable": true,
    "editable": true,
    "id": "H_qsKX1Lz3A4"
   },
   "source": [
    "Görüntü verileri üç boyutlu bir dizidir: her biri 8 × 8 piksel matristen oluşan 1.797 örnek.\n",
    "Bunlardan ilk yüz tanesini görselleştirelim:"
   ]
  },
  {
   "cell_type": "code",
   "execution_count": null,
   "metadata": {
    "colab": {
     "base_uri": "https://localhost:8080/",
     "height": 467
    },
    "deletable": true,
    "editable": true,
    "executionInfo": {
     "elapsed": 13963,
     "status": "ok",
     "timestamp": 1647717183395,
     "user": {
      "displayName": "yapay ogrenme",
      "photoUrl": "https://lh3.googleusercontent.com/a/default-user=s64",
      "userId": "01439174103862722545"
     },
     "user_tz": -180
    },
    "id": "0E553ilSz3A5",
    "outputId": "6aa41b0e-488d-48c0-9405-84a929f91fda"
   },
   "outputs": [],
   "source": [
    "import matplotlib.pyplot as plt\n",
    " \n",
    "fig, axes = plt.subplots(10, 10, figsize=(8, 8),\n",
    "                         subplot_kw={'xticks':[], 'yticks':[]},\n",
    "                         gridspec_kw=dict(hspace=0.1, wspace=0.1))\n",
    "\n",
    "for i, ax in enumerate(axes.flat):\n",
    "    ax.imshow(digits.images[i], cmap='binary', interpolation='nearest')\n",
    "    ax.text(0.05, 0.05, str(digits.target[i]),\n",
    "            transform=ax.transAxes, color='green')"
   ]
  },
  {
   "cell_type": "markdown",
   "metadata": {
    "deletable": true,
    "editable": true,
    "id": "k2_b2QDxz3A5"
   },
   "source": [
    "Bu verilerle Scikit-Learn içinde çalışmak için iki boyutlu bir `[n_samples, n_features]` gösterimine ihtiyacımız var.\n",
    "Bunu, görüntüdeki her pikseli bir özellik olarak ele alarak gerçekleştirebiliriz: yani, piksel dizilerini düzleştirerek, böylece her basamağı temsil eden uzunluğu 64 olan piksel dizisine sahip oluruz.\n",
    "Ek olarak, her basamak için önceden belirlenmiş etiketi veren hedef diziye ihtiyacımız var."
   ]
  },
  {
   "cell_type": "code",
   "execution_count": null,
   "metadata": {
    "colab": {
     "base_uri": "https://localhost:8080/"
    },
    "deletable": true,
    "editable": true,
    "executionInfo": {
     "elapsed": 37,
     "status": "ok",
     "timestamp": 1647717183398,
     "user": {
      "displayName": "yapay ogrenme",
      "photoUrl": "https://lh3.googleusercontent.com/a/default-user=s64",
      "userId": "01439174103862722545"
     },
     "user_tz": -180
    },
    "id": "Fr-gJcmXz3A5",
    "outputId": "833de2c8-3d1f-474c-8a6f-3b84ca54a0f6"
   },
   "outputs": [],
   "source": [
    "X = digits.data\n",
    "X.shape"
   ]
  },
  {
   "cell_type": "code",
   "execution_count": null,
   "metadata": {
    "colab": {
     "base_uri": "https://localhost:8080/"
    },
    "deletable": true,
    "editable": true,
    "executionInfo": {
     "elapsed": 28,
     "status": "ok",
     "timestamp": 1647717183400,
     "user": {
      "displayName": "yapay ogrenme",
      "photoUrl": "https://lh3.googleusercontent.com/a/default-user=s64",
      "userId": "01439174103862722545"
     },
     "user_tz": -180
    },
    "id": "0v5kFiN7z3A6",
    "outputId": "d484e26c-adf8-49da-a97f-55f8a7ba9df9"
   },
   "outputs": [],
   "source": [
    "y = digits.target\n",
    "y.shape"
   ]
  },
  {
   "cell_type": "markdown",
   "metadata": {
    "deletable": true,
    "editable": true,
    "id": "DaUM169Mz3A6"
   },
   "source": [
    "Burada 1.797 örnek ve 64 özellik olduğunu görüyoruz."
   ]
  },
  {
   "cell_type": "markdown",
   "metadata": {
    "deletable": true,
    "editable": true,
    "id": "-R_5c6cBz3A6"
   },
   "source": [
    "## Denetimsiz öğrenme: Boyut azaltma\n",
    "\n",
    "Noktalarımızı 64-boyutlu parametre uzayı içinde görselleştirmek istiyoruz, ama böyle yüksek-boyutlu bir uzayda noktaları etkin bir şekilde görselleştirmek zordur.\n",
    "\n",
    "Bunun yerine denetimsiz bir yöntem kullanarak boyutları 2'ye indireceğiz.\n",
    "\n",
    "Burada, *Isomap* adlı çok yönlü bir öğrenme algoritmasını kullanacağız ve verileri iki boyuta dönüştüreceğiz:"
   ]
  },
  {
   "cell_type": "code",
   "execution_count": null,
   "metadata": {
    "colab": {
     "base_uri": "https://localhost:8080/"
    },
    "deletable": true,
    "editable": true,
    "executionInfo": {
     "elapsed": 6673,
     "status": "ok",
     "timestamp": 1647717190055,
     "user": {
      "displayName": "yapay ogrenme",
      "photoUrl": "https://lh3.googleusercontent.com/a/default-user=s64",
      "userId": "01439174103862722545"
     },
     "user_tz": -180
    },
    "id": "3AhVr-MJz3A6",
    "outputId": "72a68951-1b7f-4303-9d09-37e3d755b189"
   },
   "outputs": [],
   "source": [
    "from sklearn.manifold import Isomap\n",
    "\n",
    "iso = Isomap(n_components=2)\n",
    "\n",
    "iso.fit(digits.data)\n",
    "\n",
    "data_projected = iso.transform(digits.data)\n",
    "data_projected.shape"
   ]
  },
  {
   "cell_type": "markdown",
   "metadata": {
    "deletable": true,
    "editable": true,
    "id": "yeOjUOyyz3A6"
   },
   "source": [
    "Yansıtılan verilerin artık iki boyutlu olduğunu görüyoruz."
   ]
  },
  {
   "cell_type": "code",
   "execution_count": null,
   "metadata": {
    "colab": {
     "base_uri": "https://localhost:8080/",
     "height": 268
    },
    "deletable": true,
    "editable": true,
    "executionInfo": {
     "elapsed": 1472,
     "status": "ok",
     "timestamp": 1647170524214,
     "user": {
      "displayName": "yapay ogrenme",
      "photoUrl": "https://lh3.googleusercontent.com/a/default-user=s64",
      "userId": "01439174103862722545"
     },
     "user_tz": -180
    },
    "id": "WA0GO28cz3A7",
    "outputId": "f1497ba2-a641-4234-bd0f-b8215101ee17"
   },
   "outputs": [],
   "source": [
    "plt.scatter(data_projected[:, 0], data_projected[:, 1], c=digits.target,\n",
    "            edgecolor='none', alpha=0.5,\n",
    "            cmap=plt.cm.get_cmap('Spectral', 10))\n",
    "\n",
    "plt.colorbar(label='digit label', ticks=range(10))\n",
    "plt.clim(-0.5, 9.5);"
   ]
  },
  {
   "cell_type": "markdown",
   "metadata": {
    "deletable": true,
    "editable": true,
    "id": "orLmMT4_z3A7"
   },
   "source": [
    "Bu çizim bize, daha geniş 64 boyutlu uzayda çeşitli sayıların ne kadar iyi ayrıldığına dair iyi bir sezgi verir.\n",
    "\n",
    "Bununla birlikte, genel olarak, farklı gruplar parametre uzayında oldukça iyi ayrılmış görünmektedir: bu bize, çok basit bir denetimli sınıflandırma algoritmasının bile bu veriler üzerinde uygun şekilde çalışması gerektiğini söyler.\n",
    "Bir deneyelim."
   ]
  },
  {
   "cell_type": "markdown",
   "metadata": {
    "deletable": true,
    "editable": true,
    "id": "QY0FnQomz3A7"
   },
   "source": [
    "## Rakam Sınıflandırma\n",
    "\n",
    "Daha önce Iris verilerinde olduğu gibi, rakam sınıflandırma verileri bir eğitim ve test kümesine böleceğiz ve Gaussian naive Bayes modeline uygulayacağız:"
   ]
  },
  {
   "cell_type": "code",
   "execution_count": null,
   "metadata": {
    "deletable": true,
    "editable": true,
    "id": "CYp2y54Dz3A8"
   },
   "outputs": [],
   "source": [
    "Xtrain, Xtest, ytrain, ytest = train_test_split(X, y, random_state=0)"
   ]
  },
  {
   "cell_type": "code",
   "execution_count": null,
   "metadata": {
    "deletable": true,
    "editable": true,
    "id": "v2Hb56oaz3A8"
   },
   "outputs": [],
   "source": [
    "from sklearn.naive_bayes import GaussianNB\n",
    "\n",
    "model = GaussianNB()\n",
    "\n",
    "model.fit(Xtrain, ytrain)\n",
    "\n",
    "y_model = model.predict(Xtest)"
   ]
  },
  {
   "cell_type": "markdown",
   "metadata": {
    "deletable": true,
    "editable": true,
    "id": "Qz6OJF1Qz3A8"
   },
   "source": [
    "Artık modelimizi tahmin ettiğimize göre, test setinin gerçek değerlerini tahminlerle karşılaştırarak doğruluğunu ölçebiliriz:"
   ]
  },
  {
   "cell_type": "code",
   "execution_count": null,
   "metadata": {
    "colab": {
     "base_uri": "https://localhost:8080/"
    },
    "deletable": true,
    "editable": true,
    "executionInfo": {
     "elapsed": 251,
     "status": "ok",
     "timestamp": 1647717204042,
     "user": {
      "displayName": "yapay ogrenme",
      "photoUrl": "https://lh3.googleusercontent.com/a/default-user=s64",
      "userId": "01439174103862722545"
     },
     "user_tz": -180
    },
    "id": "C-PygXh3z3A8",
    "outputId": "85eed8ce-6340-49c0-9aea-e1ef3835cb9f"
   },
   "outputs": [],
   "source": [
    "from sklearn.metrics import accuracy_score\n",
    "\n",
    "accuracy_score(ytest, y_model)"
   ]
  },
  {
   "cell_type": "markdown",
   "metadata": {
    "deletable": true,
    "editable": true,
    "id": "EDQp7b02z3A9"
   },
   "source": [
    "Bu son derece basit modelle bile, rakamların sınıflandırılması için yaklaşık %80 doğruluk buluyoruz!\n",
    "\n",
    "Ancak bu tek sayı bize *nerede* yanlış gittiğimizi söylemez—bunu yapmanın güzel bir yolu, Scikit-Learn ile hesaplayıp Seaborn ile çizebileceğimiz *karışıklık matrisini (confusion matrix)* kullanmaktır:"
   ]
  },
  {
   "cell_type": "code",
   "execution_count": null,
   "metadata": {
    "colab": {
     "base_uri": "https://localhost:8080/",
     "height": 285
    },
    "deletable": true,
    "editable": true,
    "executionInfo": {
     "elapsed": 1064,
     "status": "ok",
     "timestamp": 1647717209936,
     "user": {
      "displayName": "yapay ogrenme",
      "photoUrl": "https://lh3.googleusercontent.com/a/default-user=s64",
      "userId": "01439174103862722545"
     },
     "user_tz": -180
    },
    "id": "LKFOAlDgz3A9",
    "outputId": "3ea1a81c-9cb0-4e92-d908-3a26a872930f"
   },
   "outputs": [],
   "source": [
    "from sklearn.metrics import confusion_matrix\n",
    "\n",
    "mat = confusion_matrix(ytest, y_model)\n",
    "\n",
    "sns.heatmap(mat, square=True, annot=True, cbar=False)\n",
    "plt.xlabel('predicted value')\n",
    "plt.ylabel('true value');"
   ]
  },
  {
   "cell_type": "markdown",
   "metadata": {
    "deletable": true,
    "editable": true,
    "id": "P1wUKn4Jz3A9"
   },
   "source": [
    "Bu bize yanlış etiketlenmiş noktaların nerede olduğunu gösterir: örneğin, burada çok sayıda iki, birler veya sekizler olarak yanlış sınıflandırılır.\n",
    "\n",
    "Modelin özelliklerine dair bir sezgi kazanmanın bir başka yolu da girdileri tahmin edilen etiketleriyle yeniden çizmektir.\n",
    "\n",
    "Doğru etiketler için yeşil, yanlış etiketler için kırmızı kullanacağız:"
   ]
  },
  {
   "cell_type": "code",
   "execution_count": null,
   "metadata": {
    "colab": {
     "base_uri": "https://localhost:8080/",
     "height": 467
    },
    "deletable": true,
    "editable": true,
    "executionInfo": {
     "elapsed": 4931,
     "status": "ok",
     "timestamp": 1647717216862,
     "user": {
      "displayName": "yapay ogrenme",
      "photoUrl": "https://lh3.googleusercontent.com/a/default-user=s64",
      "userId": "01439174103862722545"
     },
     "user_tz": -180
    },
    "id": "t8LkA5yhz3A-",
    "outputId": "58ff3e1a-84ea-4bfa-e150-0cee768419e8"
   },
   "outputs": [],
   "source": [
    "fig, axes = plt.subplots(10, 10, figsize=(8, 8),\n",
    "                         subplot_kw={'xticks':[], 'yticks':[]},\n",
    "                         gridspec_kw=dict(hspace=0.1, wspace=0.1))\n",
    "\n",
    "test_images = Xtest.reshape(-1, 8, 8)\n",
    "\n",
    "for i, ax in enumerate(axes.flat):\n",
    "    ax.imshow(test_images[i], cmap='binary', interpolation='nearest')\n",
    "    ax.text(0.05, 0.05, str(y_model[i]),\n",
    "            transform=ax.transAxes,\n",
    "            color='green' if (ytest[i] == y_model[i]) else 'red')"
   ]
  },
  {
   "cell_type": "markdown",
   "metadata": {
    "deletable": true,
    "editable": true,
    "id": "l_rcQ8htz3A-"
   },
   "source": [
    "Verilerin bu alt kümesini inceleyerek, algoritmanın nerede optimal performans göstermediği konusunda fikir edinebiliriz.\n",
    "\n",
    "%80 sınıflandırma oranımızı aşmak için, Destek Vektör Makineleri, Karar Ağaçları ve Rastgele Ormanlar gibi başka bir sınıflandırma yaklaşımı kullanılabilir."
   ]
  },
  {
   "cell_type": "code",
   "execution_count": null,
   "metadata": {
    "id": "wpWnvtL_CbSP"
   },
   "outputs": [],
   "source": []
  }
 ],
 "metadata": {
  "colab": {
   "authorship_tag": "ABX9TyNbE2XU7EbXPWf02ilyxd8w",
   "collapsed_sections": [],
   "name": "Day1-Introduction-Demo_1.ipynb",
   "provenance": []
  },
  "kernelspec": {
   "display_name": "Python 3",
   "language": "python",
   "name": "python3"
  },
  "language_info": {
   "codemirror_mode": {
    "name": "ipython",
    "version": 3
   },
   "file_extension": ".py",
   "mimetype": "text/x-python",
   "name": "python",
   "nbconvert_exporter": "python",
   "pygments_lexer": "ipython3",
   "version": "3.8.10"
  }
 },
 "nbformat": 4,
 "nbformat_minor": 4
}
