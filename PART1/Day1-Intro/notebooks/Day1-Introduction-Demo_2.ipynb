{
  "nbformat": 4,
  "nbformat_minor": 0,
  "metadata": {
    "colab": {
      "name": "Day1-Introduction-Demo_2.ipynb",
      "provenance": [],
      "collapsed_sections": []
    },
    "kernelspec": {
      "name": "python3",
      "display_name": "Python 3"
    },
    "language_info": {
      "name": "python"
    }
  },
  "cells": [
    {
      "cell_type": "markdown",
      "source": [
        "# GİRİŞ - DEMO 2"
      ],
      "metadata": {
        "id": "nZAdeYJ1v7wc"
      }
    },
    {
      "cell_type": "code",
      "execution_count": null,
      "metadata": {
        "id": "JdnK-mOg1yaF"
      },
      "outputs": [],
      "source": [
        "#from google.colab import drive\n",
        "#drive.mount('/content/drive')"
      ]
    },
    {
      "cell_type": "code",
      "source": [
        "#!ls \"/content/drive/MyDrive/CASGEM-Egitim/Egitim-Part1/Day1-Intro/notebooks\""
      ],
      "metadata": {
        "id": "FBpfv7kW2knu"
      },
      "execution_count": null,
      "outputs": []
    },
    {
      "cell_type": "code",
      "source": [
        "#ROOT_DIR = \"/content/drive/MyDrive/CASGEM-Egitim/Egitim-Part1/Day1-Intro/notebooks\"\n",
        "#DATASET_PATH = ROOT_DIR + \"/datasets/lifesat/\"\n",
        "\n",
        "ROOT_DIR = \"https://media.githubusercontent.com/media/yapay-ogrenme/casgem-eu-project-training-on-data-mining-2nd/main/PART1/Day1-Intro/notebooks\"\n",
        "DATASET_PATH = ROOT_DIR + \"/datasets/lifesat/\""
      ],
      "metadata": {
        "id": "2PG8Xmsj4p82"
      },
      "execution_count": null,
      "outputs": []
    },
    {
      "cell_type": "code",
      "source": [
        "# To plot pretty figures directly within Jupyter\n",
        "%matplotlib inline\n",
        "import matplotlib as mpl\n",
        "mpl.rc('axes', labelsize=14)\n",
        "mpl.rc('xtick', labelsize=12)\n",
        "mpl.rc('ytick', labelsize=12)"
      ],
      "metadata": {
        "id": "FqWP31S_4fGC"
      },
      "execution_count": null,
      "outputs": []
    },
    {
      "cell_type": "code",
      "source": [
        "# Code example\n",
        "import matplotlib.pyplot as plt\n",
        "import numpy as np\n",
        "import pandas as pd"
      ],
      "metadata": {
        "id": "ce8_2NsTgekt"
      },
      "execution_count": null,
      "outputs": []
    },
    {
      "cell_type": "markdown",
      "source": [
        "**OECD'den alınan Yaşam Memnuniyeti Veri Kümesi**\n",
        "\n",
        "* Ülke Kodu (LOCATION) \n",
        "* Ülke (Country)\n",
        "* Value (Yaşam Memnuniyeti İndeksi)\n"
      ],
      "metadata": {
        "id": "HxeHo8Cigfm5"
      }
    },
    {
      "cell_type": "code",
      "source": [
        "# Load the data\n",
        "df_oecd_bli = pd.read_csv(DATASET_PATH + \"oecd_bli_2015.csv\", thousands=',')\n",
        "df_oecd_bli"
      ],
      "metadata": {
        "id": "VgO2mH1M4-4a"
      },
      "execution_count": null,
      "outputs": []
    },
    {
      "cell_type": "markdown",
      "source": [
        "**Ülkelere Göre Gayrisafi millî hasıla (GDP) Veri Kümesi**"
      ],
      "metadata": {
        "id": "GHG3kg5biMXe"
      }
    },
    {
      "cell_type": "code",
      "source": [
        "df_gdp_per_capita = pd.read_csv(DATASET_PATH + \"gdp_per_capita.csv\",thousands=',',delimiter='\\t', encoding='latin1', na_values=\"n/a\")\n",
        "df_gdp_per_capita"
      ],
      "metadata": {
        "id": "HTD7XrUc58H2"
      },
      "execution_count": null,
      "outputs": []
    },
    {
      "cell_type": "code",
      "source": [
        "def prepare_country_stats(oecd_bli, gdp_per_capita):\n",
        "    oecd_bli = oecd_bli[oecd_bli[\"INEQUALITY\"]==\"TOT\"]\n",
        "    oecd_bli = oecd_bli.pivot(index=\"Country\", columns=\"Indicator\", values=\"Value\")\n",
        "    \n",
        "    gdp_per_capita.rename(columns={\"2015\": \"GDP per capita\"}, inplace=True)\n",
        "    gdp_per_capita.set_index(\"Country\", inplace=True)\n",
        "\n",
        "    full_country_stats = pd.merge(left=oecd_bli, right=gdp_per_capita,\n",
        "                                  left_index=True, right_index=True)\n",
        "    \n",
        "    full_country_stats.sort_values(by=\"GDP per capita\", inplace=True)\n",
        "\n",
        "    remove_indices = [0, 1, 6, 8, 33, 34, 35]\n",
        "\n",
        "    keep_indices = list(set(range(36)) - set(remove_indices))\n",
        "\n",
        "    return full_country_stats[[\"GDP per capita\", 'Life satisfaction']].iloc[keep_indices]"
      ],
      "metadata": {
        "id": "WgO_Yy185hlp"
      },
      "execution_count": null,
      "outputs": []
    },
    {
      "cell_type": "code",
      "source": [
        "# Prepare the data\n",
        "country_stats = prepare_country_stats(df_oecd_bli, df_gdp_per_capita)\n",
        "country_stats"
      ],
      "metadata": {
        "id": "yej8nL0Ni5ig"
      },
      "execution_count": null,
      "outputs": []
    },
    {
      "cell_type": "code",
      "source": [
        "X = np.c_[country_stats[\"GDP per capita\"]]\n",
        "y = np.c_[country_stats[\"Life satisfaction\"]]\n",
        "\n",
        "# Visualize the data\n",
        "country_stats.plot(kind='scatter', x=\"GDP per capita\", y='Life satisfaction')\n",
        "plt.show()"
      ],
      "metadata": {
        "id": "jb4sQ2cl5UiP"
      },
      "execution_count": null,
      "outputs": []
    },
    {
      "cell_type": "markdown",
      "source": [
        "## Linear Regression"
      ],
      "metadata": {
        "id": "IJ3Uitua69sF"
      }
    },
    {
      "cell_type": "code",
      "source": [
        "import sklearn.linear_model\n",
        "\n",
        "# Select a linear model\n",
        "model = sklearn.linear_model.LinearRegression()\n",
        "\n",
        "# Train the model\n",
        "model.fit(X, y)"
      ],
      "metadata": {
        "id": "LUGJM3JZ5Utu"
      },
      "execution_count": null,
      "outputs": []
    },
    {
      "cell_type": "code",
      "source": [
        "# Make a prediction for Cyprus (Kıbrıs)\n",
        "X_new = [[22587]]  # Cyprus GDP per capita\n",
        "print(model.predict(X_new)) # outputs [[5.96242338]]"
      ],
      "metadata": {
        "id": "BvMwg8Mi5UwC"
      },
      "execution_count": null,
      "outputs": []
    },
    {
      "cell_type": "markdown",
      "source": [
        "## k-Nearest Neighbors Regression"
      ],
      "metadata": {
        "id": "FG_usN4362ZG"
      }
    },
    {
      "cell_type": "code",
      "source": [
        "import sklearn.neighbors\n",
        "model_knn = sklearn.neighbors.KNeighborsRegressor(n_neighbors=3)\n",
        "\n",
        "model_knn.fit(X, y)"
      ],
      "metadata": {
        "id": "Zp8JV6i-6ftC"
      },
      "execution_count": null,
      "outputs": []
    },
    {
      "cell_type": "code",
      "source": [
        "print(model_knn.predict(X_new)) # outputs [[5.76666667]]"
      ],
      "metadata": {
        "id": "iEzoxtIX6txD"
      },
      "execution_count": null,
      "outputs": []
    },
    {
      "cell_type": "code",
      "source": [
        ""
      ],
      "metadata": {
        "id": "nLpme9VC6wzj"
      },
      "execution_count": null,
      "outputs": []
    }
  ]
}