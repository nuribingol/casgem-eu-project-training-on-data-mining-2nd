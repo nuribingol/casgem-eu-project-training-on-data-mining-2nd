{
 "cells": [
  {
   "cell_type": "markdown",
   "metadata": {
    "id": "nZAdeYJ1v7wc"
   },
   "source": [
    "# GİRİŞ - DEMO 2"
   ]
  },
  {
   "cell_type": "code",
   "execution_count": null,
   "metadata": {},
   "outputs": [],
   "source": [
    "#from google.colab import drive\n",
    "#drive.mount('/content/drive')"
   ]
  },
  {
   "cell_type": "code",
   "execution_count": null,
   "metadata": {},
   "outputs": [],
   "source": [
    "#!ls \"/content/drive/MyDrive/CASGEM-Egitim/Egitim-Part1/Day1-Intro/notebooks\""
   ]
  },
  {
   "cell_type": "code",
   "execution_count": null,
   "metadata": {
    "executionInfo": {
     "elapsed": 10,
     "status": "ok",
     "timestamp": 1648374316691,
     "user": {
      "displayName": "yapay ogrenme",
      "photoUrl": "https://lh3.googleusercontent.com/a/default-user=s64",
      "userId": "01439174103862722545"
     },
     "user_tz": -180
    },
    "id": "2PG8Xmsj4p82"
   },
   "outputs": [],
   "source": [
    "#ROOT_DIR = \"/content/drive/MyDrive/CASGEM-Egitim/Egitim-Part1/Day1-Intro/notebooks\"\n",
    "#DATASET_PATH = ROOT_DIR + \"/datasets/lifesat/\"\n",
    "\n",
    "ROOT_DIR = \"https://media.githubusercontent.com/media/yapay-ogrenme/casgem-eu-project-training-on-data-mining/9f260a425106bda386031bb6880a635c6d522c96/PART1/Day1-Intro/notebooks\"\n",
    "DATASET_PATH = ROOT_DIR + \"/datasets/lifesat/\""
   ]
  },
  {
   "cell_type": "code",
   "execution_count": null,
   "metadata": {
    "executionInfo": {
     "elapsed": 447,
     "status": "ok",
     "timestamp": 1648374322217,
     "user": {
      "displayName": "yapay ogrenme",
      "photoUrl": "https://lh3.googleusercontent.com/a/default-user=s64",
      "userId": "01439174103862722545"
     },
     "user_tz": -180
    },
    "id": "FqWP31S_4fGC"
   },
   "outputs": [],
   "source": [
    "# To plot pretty figures directly within Jupyter\n",
    "%matplotlib inline\n",
    "import matplotlib as mpl\n",
    "mpl.rc('axes', labelsize=14)\n",
    "mpl.rc('xtick', labelsize=12)\n",
    "mpl.rc('ytick', labelsize=12)"
   ]
  },
  {
   "cell_type": "code",
   "execution_count": null,
   "metadata": {
    "id": "ce8_2NsTgekt"
   },
   "outputs": [],
   "source": [
    "# Code example\n",
    "import matplotlib.pyplot as plt\n",
    "import numpy as np\n",
    "import pandas as pd"
   ]
  },
  {
   "cell_type": "markdown",
   "metadata": {
    "id": "HxeHo8Cigfm5"
   },
   "source": [
    "DATASET_PATH**OECD'den alınan Yaşam Memnuniyeti Veri Kümesi**\n",
    "\n",
    "* Ülke Kodu (LOCATION) \n",
    "* Ülke (Country)\n",
    "* Value (Yaşam Memnuniyeti İndeksi)\n"
   ]
  },
  {
   "cell_type": "code",
   "execution_count": null,
   "metadata": {
    "colab": {
     "base_uri": "https://localhost:8080/",
     "height": 659
    },
    "executionInfo": {
     "elapsed": 405,
     "status": "ok",
     "timestamp": 1647716119980,
     "user": {
      "displayName": "yapay ogrenme",
      "photoUrl": "https://lh3.googleusercontent.com/a/default-user=s64",
      "userId": "01439174103862722545"
     },
     "user_tz": -180
    },
    "id": "VgO2mH1M4-4a",
    "outputId": "81bb6060-c056-4782-c78f-819552bcfd22"
   },
   "outputs": [],
   "source": [
    "# Load the data\n",
    "df_oecd_bli = pd.read_csv(DATASET_PATH + \"oecd_bli_2015.csv\", thousands=',')\n",
    "df_oecd_bli"
   ]
  },
  {
   "cell_type": "markdown",
   "metadata": {
    "id": "GHG3kg5biMXe"
   },
   "source": [
    "**Ülkelere Göre Gayrisafi millî hasıla (GDP) Veri Kümesi**"
   ]
  },
  {
   "cell_type": "code",
   "execution_count": null,
   "metadata": {
    "colab": {
     "base_uri": "https://localhost:8080/",
     "height": 424
    },
    "executionInfo": {
     "elapsed": 371,
     "status": "ok",
     "timestamp": 1647716220879,
     "user": {
      "displayName": "yapay ogrenme",
      "photoUrl": "https://lh3.googleusercontent.com/a/default-user=s64",
      "userId": "01439174103862722545"
     },
     "user_tz": -180
    },
    "id": "HTD7XrUc58H2",
    "outputId": "4704695a-9d91-4070-9d51-a879f36656cf"
   },
   "outputs": [],
   "source": [
    "df_gdp_per_capita = pd.read_csv(DATASET_PATH + \"gdp_per_capita.csv\",thousands=',',delimiter='\\t', encoding='latin1', na_values=\"n/a\")\n",
    "df_gdp_per_capita"
   ]
  },
  {
   "cell_type": "code",
   "execution_count": null,
   "metadata": {
    "id": "WgO_Yy185hlp"
   },
   "outputs": [],
   "source": [
    "def prepare_country_stats(oecd_bli, gdp_per_capita):\n",
    "    oecd_bli = oecd_bli[oecd_bli[\"INEQUALITY\"]==\"TOT\"]\n",
    "    oecd_bli = oecd_bli.pivot(index=\"Country\", columns=\"Indicator\", values=\"Value\")\n",
    "    \n",
    "    gdp_per_capita.rename(columns={\"2015\": \"GDP per capita\"}, inplace=True)\n",
    "    gdp_per_capita.set_index(\"Country\", inplace=True)\n",
    "\n",
    "    full_country_stats = pd.merge(left=oecd_bli, right=gdp_per_capita,\n",
    "                                  left_index=True, right_index=True)\n",
    "    \n",
    "    full_country_stats.sort_values(by=\"GDP per capita\", inplace=True)\n",
    "\n",
    "    remove_indices = [0, 1, 6, 8, 33, 34, 35]\n",
    "\n",
    "    keep_indices = list(set(range(36)) - set(remove_indices))\n",
    "\n",
    "    return full_country_stats[[\"GDP per capita\", 'Life satisfaction']].iloc[keep_indices]"
   ]
  },
  {
   "cell_type": "code",
   "execution_count": null,
   "metadata": {
    "colab": {
     "base_uri": "https://localhost:8080/",
     "height": 990
    },
    "executionInfo": {
     "elapsed": 370,
     "status": "ok",
     "timestamp": 1647716315554,
     "user": {
      "displayName": "yapay ogrenme",
      "photoUrl": "https://lh3.googleusercontent.com/a/default-user=s64",
      "userId": "01439174103862722545"
     },
     "user_tz": -180
    },
    "id": "yej8nL0Ni5ig",
    "outputId": "25346229-cc6a-4a60-c0f9-d173b6f0d102"
   },
   "outputs": [],
   "source": [
    "# Prepare the data\n",
    "country_stats = prepare_country_stats(df_oecd_bli, df_gdp_per_capita)\n",
    "country_stats"
   ]
  },
  {
   "cell_type": "code",
   "execution_count": null,
   "metadata": {
    "colab": {
     "base_uri": "https://localhost:8080/",
     "height": 286
    },
    "executionInfo": {
     "elapsed": 368,
     "status": "ok",
     "timestamp": 1647716331987,
     "user": {
      "displayName": "yapay ogrenme",
      "photoUrl": "https://lh3.googleusercontent.com/a/default-user=s64",
      "userId": "01439174103862722545"
     },
     "user_tz": -180
    },
    "id": "jb4sQ2cl5UiP",
    "outputId": "36965a8d-aaa0-4004-e714-9e48e2b619d5"
   },
   "outputs": [],
   "source": [
    "X = np.c_[country_stats[\"GDP per capita\"]]\n",
    "y = np.c_[country_stats[\"Life satisfaction\"]]\n",
    "\n",
    "# Visualize the data\n",
    "country_stats.plot(kind='scatter', x=\"GDP per capita\", y='Life satisfaction')\n",
    "plt.show()"
   ]
  },
  {
   "cell_type": "markdown",
   "metadata": {
    "id": "IJ3Uitua69sF"
   },
   "source": [
    "## Linear Regression"
   ]
  },
  {
   "cell_type": "code",
   "execution_count": null,
   "metadata": {
    "colab": {
     "base_uri": "https://localhost:8080/"
    },
    "executionInfo": {
     "elapsed": 835,
     "status": "ok",
     "timestamp": 1647716345780,
     "user": {
      "displayName": "yapay ogrenme",
      "photoUrl": "https://lh3.googleusercontent.com/a/default-user=s64",
      "userId": "01439174103862722545"
     },
     "user_tz": -180
    },
    "id": "LUGJM3JZ5Utu",
    "outputId": "76069177-bff7-481f-8266-a465bcf18c61"
   },
   "outputs": [],
   "source": [
    "import sklearn.linear_model\n",
    "\n",
    "# Select a linear model\n",
    "model = sklearn.linear_model.LinearRegression()\n",
    "\n",
    "# Train the model\n",
    "model.fit(X, y)"
   ]
  },
  {
   "cell_type": "code",
   "execution_count": null,
   "metadata": {
    "colab": {
     "base_uri": "https://localhost:8080/"
    },
    "executionInfo": {
     "elapsed": 14,
     "status": "ok",
     "timestamp": 1647716385858,
     "user": {
      "displayName": "yapay ogrenme",
      "photoUrl": "https://lh3.googleusercontent.com/a/default-user=s64",
      "userId": "01439174103862722545"
     },
     "user_tz": -180
    },
    "id": "BvMwg8Mi5UwC",
    "outputId": "834ff8ea-ee02-41b8-a258-dc9eb7550edf"
   },
   "outputs": [],
   "source": [
    "# Make a prediction for Cyprus (Kıbrıs)\n",
    "X_new = [[22587]]  # Cyprus GDP per capita\n",
    "print(model.predict(X_new)) # outputs [[5.96242338]]"
   ]
  },
  {
   "cell_type": "markdown",
   "metadata": {
    "id": "FG_usN4362ZG"
   },
   "source": [
    "## k-Nearest Neighbors Regression"
   ]
  },
  {
   "cell_type": "code",
   "execution_count": null,
   "metadata": {
    "colab": {
     "base_uri": "https://localhost:8080/"
    },
    "executionInfo": {
     "elapsed": 434,
     "status": "ok",
     "timestamp": 1647716407839,
     "user": {
      "displayName": "yapay ogrenme",
      "photoUrl": "https://lh3.googleusercontent.com/a/default-user=s64",
      "userId": "01439174103862722545"
     },
     "user_tz": -180
    },
    "id": "Zp8JV6i-6ftC",
    "outputId": "583bf705-7eee-4ec2-aa93-26022b055a3c"
   },
   "outputs": [],
   "source": [
    "import sklearn.neighbors\n",
    "model_knn = sklearn.neighbors.KNeighborsRegressor(n_neighbors=3)\n",
    "\n",
    "model_knn.fit(X, y)"
   ]
  },
  {
   "cell_type": "code",
   "execution_count": null,
   "metadata": {
    "colab": {
     "base_uri": "https://localhost:8080/"
    },
    "executionInfo": {
     "elapsed": 12,
     "status": "ok",
     "timestamp": 1647716408184,
     "user": {
      "displayName": "yapay ogrenme",
      "photoUrl": "https://lh3.googleusercontent.com/a/default-user=s64",
      "userId": "01439174103862722545"
     },
     "user_tz": -180
    },
    "id": "iEzoxtIX6txD",
    "outputId": "5c307100-d163-4570-a255-41e3b115b86e"
   },
   "outputs": [],
   "source": [
    "print(model_knn.predict(X_new)) # outputs [[5.76666667]]"
   ]
  },
  {
   "cell_type": "code",
   "execution_count": null,
   "metadata": {
    "id": "nLpme9VC6wzj"
   },
   "outputs": [],
   "source": []
  }
 ],
 "metadata": {
  "colab": {
   "collapsed_sections": [
    "FG_usN4362ZG"
   ],
   "name": "Day1-Introduction-Demo_2.ipynb",
   "provenance": []
  },
  "kernelspec": {
   "display_name": "Python 3",
   "language": "python",
   "name": "python3"
  },
  "language_info": {
   "codemirror_mode": {
    "name": "ipython",
    "version": 3
   },
   "file_extension": ".py",
   "mimetype": "text/x-python",
   "name": "python",
   "nbconvert_exporter": "python",
   "pygments_lexer": "ipython3",
   "version": "3.8.10"
  }
 },
 "nbformat": 4,
 "nbformat_minor": 4
}
